{
 "cells": [
  {
   "cell_type": "markdown",
   "metadata": {},
   "source": [
    "### Cleaning dataset from uknown locations"
   ]
  },
  {
   "cell_type": "code",
   "execution_count": 14,
   "metadata": {},
   "outputs": [
    {
     "name": "stdout",
     "output_type": "stream",
     "text": [
      "Dataset nettoyé, enrichi et sauvegardé sous meteoriteLandings.csv\n"
     ]
    }
   ],
   "source": [
    "import pandas as pd\n",
    "\n",
    "# Charger le dataset\n",
    "file_path = \"meteorite_landings.csv\"  # Remplacez par le chemin vers votre fichier\n",
    "data = pd.read_csv(file_path)\n",
    "\n",
    "# Supprimer les lignes où reclat ou reclong sont null ou égales à 0.000000\n",
    "data_cleaned = data.dropna(subset=['reclat', 'reclong'])  # Supprime les valeurs nulles\n",
    "data_cleaned = data_cleaned[(data_cleaned['reclat'] != 0.0) & (data_cleaned['reclong'] != 0.0)]\n",
    "\n",
    "# Ajouter des colonnes \"Country\" et \"Continent\" avec des valeurs par défaut uniquement si elles sont manquantes\n",
    "if 'Country' not in data_cleaned.columns:\n",
    "    data_cleaned['Country'] = None\n",
    "if 'Continent' not in data_cleaned.columns:\n",
    "    data_cleaned['Continent'] = None\n",
    "\n",
    "# Remplir les colonnes vides avec les valeurs par défaut\n",
    "data_cleaned['Country'].fillna('France', inplace=True)\n",
    "data_cleaned['Continent'].fillna('Europe', inplace=True)\n",
    "\n",
    "# Sauvegarder le dataset nettoyé et enrichi\n",
    "output_path = \"meteoriteLandings.csv\"\n",
    "data_cleaned.to_csv(output_path, index=False)\n",
    "\n",
    "print(f\"Dataset nettoyé, enrichi et sauvegardé sous {output_path}\")\n"
   ]
  },
  {
   "cell_type": "code",
   "execution_count": 15,
   "metadata": {},
   "outputs": [
    {
     "name": "stdout",
     "output_type": "stream",
     "text": [
      "Africa: ['Algeria', 'Angola', 'Burkina Faso', 'Cameroon', 'Central African Republic', 'Chad', 'DR Congo', 'Egypt', 'Eswatini', 'Ethiopia', 'Ghana', 'Kenya', 'Lesotho', 'Madagascar', 'Malawi', 'Mali', 'Mauritania', 'Morocco', 'Namibia', 'Niger', 'Nigeria', 'Rwanda', 'Somalia', 'South Africa', 'South Sudan', 'Sudan', 'Tanzania', 'Tunisia', 'Uganda', 'Western Sahara', 'Zambia', 'Zimbabwe']\n",
      "Americas: ['Argentina', 'Brazil', 'Canada', 'Chile', 'Colombia', 'Costa Rica', 'Ecuador', 'Mexico', 'Peru', 'United States', 'Uruguay', 'Venezuela']\n",
      "Antarctic: ['Antarctica']\n",
      "Asia: ['Afghanistan', 'Armenia', 'Azerbaijan', 'Bangladesh', 'Cambodia', 'China', 'India', 'Indonesia', 'Iran', 'Iraq', 'Japan', 'Jordan', 'Kazakhstan', 'Laos', 'Lebanon', 'Mongolia', 'Myanmar', 'Oman', 'Pakistan', 'Philippines', 'Saudi Arabia', 'South Korea', 'Syria', 'Thailand', 'Turkmenistan', 'Türkiye', 'Uzbekistan', 'Vietnam', 'Yemen']\n",
      "Europe: ['Austria', 'Belarus', 'Belgium', 'Bulgaria', 'Croatia', 'Czechia', 'Denmark', 'Estonia', 'Finland', 'France', 'Germany', 'Greece', 'Hungary', 'Ireland', 'Italy', 'Latvia', 'Lithuania', 'Norway', 'Poland', 'Portugal', 'Romania', 'Russia', 'Serbia', 'Slovakia', 'Slovenia', 'Spain', 'Sweden', 'Switzerland', 'The Netherlands', 'Ukraine', 'United Kingdom']\n",
      "Oceania: ['Australia', 'New Caledonia', 'New Zealand', 'Papua New Guinea']\n"
     ]
    }
   ],
   "source": [
    "import pandas as pd\n",
    "\n",
    "# Charger le dataset enrichi\n",
    "file_path = \"meteoriteLandings.csv\"\n",
    "data = pd.read_csv(file_path)\n",
    "\n",
    "# Construire le dictionnaire des continents et pays\n",
    "continent_country_dict = (\n",
    "    data.groupby('Continent')['Country']\n",
    "    .apply(lambda x: sorted(x.dropna().unique()))\n",
    "    .to_dict()\n",
    ")\n",
    "\n",
    "# Afficher le dictionnaire\n",
    "for continent, countries in continent_country_dict.items():\n",
    "    print(f\"{continent}: {countries}\")\n"
   ]
  },
  {
   "cell_type": "markdown",
   "metadata": {},
   "source": [
    "### Adding country and continent for 2500 rows (API limitation)"
   ]
  },
  {
   "cell_type": "code",
   "execution_count": 10,
   "metadata": {},
   "outputs": [
    {
     "ename": "KeyboardInterrupt",
     "evalue": "",
     "output_type": "error",
     "traceback": [
      "\u001b[1;31m---------------------------------------------------------------------------\u001b[0m",
      "\u001b[1;31mKeyboardInterrupt\u001b[0m                         Traceback (most recent call last)",
      "Cell \u001b[1;32mIn[10], line 38\u001b[0m\n\u001b[0;32m     36\u001b[0m         data\u001b[38;5;241m.\u001b[39mat[idx, \u001b[38;5;124m'\u001b[39m\u001b[38;5;124mcountry\u001b[39m\u001b[38;5;124m'\u001b[39m] \u001b[38;5;241m=\u001b[39m country\n\u001b[0;32m     37\u001b[0m         data\u001b[38;5;241m.\u001b[39mat[idx, \u001b[38;5;124m'\u001b[39m\u001b[38;5;124mcontinent\u001b[39m\u001b[38;5;124m'\u001b[39m] \u001b[38;5;241m=\u001b[39m continent\n\u001b[1;32m---> 38\u001b[0m     \u001b[43mtime\u001b[49m\u001b[38;5;241;43m.\u001b[39;49m\u001b[43msleep\u001b[49m\u001b[43m(\u001b[49m\u001b[38;5;241;43m1\u001b[39;49m\u001b[43m)\u001b[49m  \u001b[38;5;66;03m# Respecter les limitations de l'API (1 requête par seconde)\u001b[39;00m\n\u001b[0;32m     40\u001b[0m \u001b[38;5;66;03m# Ajouter des valeurs par défaut pour les autres lignes\u001b[39;00m\n\u001b[0;32m     41\u001b[0m data\u001b[38;5;241m.\u001b[39mloc[\u001b[38;5;241m2500\u001b[39m:, \u001b[38;5;124m'\u001b[39m\u001b[38;5;124mcountry\u001b[39m\u001b[38;5;124m'\u001b[39m] \u001b[38;5;241m=\u001b[39m \u001b[38;5;124m'\u001b[39m\u001b[38;5;124mFrance\u001b[39m\u001b[38;5;124m'\u001b[39m\n",
      "\u001b[1;31mKeyboardInterrupt\u001b[0m: "
     ]
    }
   ],
   "source": [
    "import pandas as pd\n",
    "from opencage.geocoder import OpenCageGeocode\n",
    "import time\n",
    "\n",
    "# Clé de l'API OpenCage\n",
    "key = '17fa3e0b85b94642b181fec6406ead7b'  # Remplacez par votre clé\n",
    "geocoder = OpenCageGeocode(key)\n",
    "\n",
    "# Charger le dataset nettoyé\n",
    "file_path = \"meteorites_landing.csv\"  # Remplacez par votre fichier nettoyé\n",
    "data = pd.read_csv(file_path)\n",
    "\n",
    "# Ajouter les colonnes vides pour country et continent\n",
    "data['country'] = None\n",
    "data['continent'] = None\n",
    "\n",
    "# Fonction pour obtenir les informations de localisation\n",
    "def get_location_info(lat, lng):\n",
    "    try:\n",
    "        results = geocoder.reverse_geocode(lat, lng, no_annotations=True, language='en')\n",
    "        if results:\n",
    "            components = results[0]['components']\n",
    "            country = components.get('country', 'France')\n",
    "            continent = components.get('continent', 'Europe')\n",
    "            return country, continent\n",
    "    except Exception as e:\n",
    "        print(f\"Erreur pour lat: {lat}, lng: {lng} - {e}\")\n",
    "    return 'France', 'Europe'\n",
    "\n",
    "# Appliquer pour les 2500 premières lignes\n",
    "for idx in range(min(len(data), 2500)):\n",
    "    lat = data.at[idx, 'reclat']\n",
    "    lng = data.at[idx, 'reclong']\n",
    "    if pd.notna(lat) and pd.notna(lng):\n",
    "        country, continent = get_location_info(lat, lng)\n",
    "        data.at[idx, 'country'] = country\n",
    "        data.at[idx, 'continent'] = continent\n",
    "    time.sleep(1)  # Respecter les limitations de l'API (1 requête par seconde)\n",
    "\n",
    "# Ajouter des valeurs par défaut pour les autres lignes\n",
    "data.loc[2500:, 'country'] = 'France'\n",
    "data.loc[2500:, 'continent'] = 'Europe'\n",
    "\n",
    "# Sauvegarder le dataset avec les nouvelles colonnes\n",
    "output_path = \"dataset_with_country_continent.csv\"\n",
    "data.to_csv(output_path, index=False)\n",
    "\n",
    "print(f\"Dataset mis à jour et sauvegardé sous {output_path}\")\n"
   ]
  },
  {
   "cell_type": "code",
   "execution_count": 16,
   "metadata": {},
   "outputs": [],
   "source": [
    "import pandas as pd\n",
    "\n",
    "# Charger le fichier CSV\n",
    "data = pd.read_csv(\"meteoriteLandings.csv\")\n",
    "\n",
    "# Calculer la moyenne de la colonne 'mass' en excluant les NaN\n",
    "mean_mass = data['mass'].mean()\n",
    "\n",
    "# Remplacer les NaN dans la colonne 'mass' par la moyenne\n",
    "data['mass'].fillna(mean_mass, inplace=True)\n",
    "\n",
    "# Enregistrer les modifications dans le fichier CSV\n",
    "data.to_csv(\"meteoriteLandings.csv\", index=False)\n"
   ]
  }
 ],
 "metadata": {
  "kernelspec": {
   "display_name": "base",
   "language": "python",
   "name": "python3"
  },
  "language_info": {
   "codemirror_mode": {
    "name": "ipython",
    "version": 3
   },
   "file_extension": ".py",
   "mimetype": "text/x-python",
   "name": "python",
   "nbconvert_exporter": "python",
   "pygments_lexer": "ipython3",
   "version": "3.10.9"
  }
 },
 "nbformat": 4,
 "nbformat_minor": 2
}
